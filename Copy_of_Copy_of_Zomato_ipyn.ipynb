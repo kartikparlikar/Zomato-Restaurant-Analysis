{
  "nbformat": 4,
  "nbformat_minor": 0,
  "metadata": {
    "colab": {
      "provenance": [],
      "authorship_tag": "ABX9TyNRQoux/MsNy06TUrqO/Lny",
      "include_colab_link": true
    },
    "kernelspec": {
      "name": "python3",
      "display_name": "Python 3"
    },
    "language_info": {
      "name": "python"
    }
  },
  "cells": [
    {
      "cell_type": "markdown",
      "metadata": {
        "id": "view-in-github",
        "colab_type": "text"
      },
      "source": [
        "<a href=\"https://colab.research.google.com/github/kartikparlikar/Zomato-Restaurant-Analysis/blob/main/Copy_of_Copy_of_Zomato_ipyn.ipynb\" target=\"_parent\"><img src=\"https://colab.research.google.com/assets/colab-badge.svg\" alt=\"Open In Colab\"/></a>"
      ]
    },
    {
      "cell_type": "markdown",
      "source": [
        "***Importing libraries*** "
      ],
      "metadata": {
        "id": "z52VTX7mrKXi"
      }
    },
    {
      "cell_type": "code",
      "execution_count": null,
      "metadata": {
        "id": "Xpfy5aXGpWz_"
      },
      "outputs": [],
      "source": [
        "import pandas as pd  \n",
        "import numpy as np\n",
        "import seaborn as sns\n",
        "import matplotlib.pyplot as plt"
      ]
    },
    {
      "cell_type": "markdown",
      "source": [
        "***Extract the data from google drive***"
      ],
      "metadata": {
        "id": "oUqNdsQurds7"
      }
    },
    {
      "cell_type": "code",
      "source": [
        "from google.colab import drive\n",
        "drive.mount('/content/drive')"
      ],
      "metadata": {
        "colab": {
          "base_uri": "https://localhost:8080/"
        },
        "id": "C9MPpRIy9sAB",
        "outputId": "756f4b13-0eca-40e5-ee44-a437c805029b"
      },
      "execution_count": null,
      "outputs": [
        {
          "output_type": "stream",
          "name": "stdout",
          "text": [
            "Drive already mounted at /content/drive; to attempt to forcibly remount, call drive.mount(\"/content/drive\", force_remount=True).\n"
          ]
        }
      ]
    },
    {
      "cell_type": "markdown",
      "source": [
        " ***Reading The Data***"
      ],
      "metadata": {
        "id": "UQiqpqJLryRM"
      }
    },
    {
      "cell_type": "code",
      "source": [
        "df = pd.read_csv(\"/content/drive/MyDrive/zomato.csv\")"
      ],
      "metadata": {
        "id": "I6y0WQiI95r3"
      },
      "execution_count": null,
      "outputs": []
    },
    {
      "cell_type": "markdown",
      "source": [
        "***we will create a copy of our original data***"
      ],
      "metadata": {
        "id": "hfHhnvqmOb3i"
      }
    },
    {
      "cell_type": "code",
      "source": [
        "df1 = df"
      ],
      "metadata": {
        "id": "DNvA-_xNM_5O"
      },
      "execution_count": null,
      "outputs": []
    },
    {
      "cell_type": "markdown",
      "source": [
        "***Checking the shape of the data.***"
      ],
      "metadata": {
        "id": "CXRhZrUTPJVJ"
      }
    },
    {
      "cell_type": "code",
      "source": [
        "df1.shape"
      ],
      "metadata": {
        "colab": {
          "base_uri": "https://localhost:8080/"
        },
        "id": "IqoRfA6GKEkE",
        "outputId": "a773cb00-77d2-4c78-a126-59539c38d0eb"
      },
      "execution_count": null,
      "outputs": [
        {
          "output_type": "execute_result",
          "data": {
            "text/plain": [
              "(51717, 17)"
            ]
          },
          "metadata": {},
          "execution_count": 75
        }
      ]
    },
    {
      "cell_type": "markdown",
      "source": [
        "***And Show The Data***"
      ],
      "metadata": {
        "id": "PbrYdEj3r7Ai"
      }
    },
    {
      "cell_type": "code",
      "source": [
        "df1.head(5).T"
      ],
      "metadata": {
        "colab": {
          "base_uri": "https://localhost:8080/",
          "height": 733
        },
        "id": "Vd0OozyQ95vJ",
        "outputId": "a5b58ee4-7279-4701-828e-6a09c1f9a024"
      },
      "execution_count": null,
      "outputs": [
        {
          "output_type": "execute_result",
          "data": {
            "text/plain": [
              "                                                                             0  \\\n",
              "url                          https://www.zomato.com/bangalore/jalsa-banasha...   \n",
              "address                      942, 21st Main Road, 2nd Stage, Banashankari, ...   \n",
              "name                                                                     Jalsa   \n",
              "online_order                                                               Yes   \n",
              "book_table                                                                 Yes   \n",
              "rate                                                                     4.1/5   \n",
              "votes                                                                      775   \n",
              "phone                                           080 42297555\\r\\n+91 9743772233   \n",
              "location                                                          Banashankari   \n",
              "rest_type                                                        Casual Dining   \n",
              "dish_liked                   Pasta, Lunch Buffet, Masala Papad, Paneer Laja...   \n",
              "cuisines                                        North Indian, Mughlai, Chinese   \n",
              "approx_cost(for two people)                                                800   \n",
              "reviews_list                 [('Rated 4.0', 'RATED\\n  A beautiful place to ...   \n",
              "menu_item                                                                   []   \n",
              "listed_in(type)                                                         Buffet   \n",
              "listed_in(city)                                                   Banashankari   \n",
              "\n",
              "                                                                             1  \\\n",
              "url                          https://www.zomato.com/bangalore/spice-elephan...   \n",
              "address                      2nd Floor, 80 Feet Road, Near Big Bazaar, 6th ...   \n",
              "name                                                            Spice Elephant   \n",
              "online_order                                                               Yes   \n",
              "book_table                                                                  No   \n",
              "rate                                                                     4.1/5   \n",
              "votes                                                                      787   \n",
              "phone                                                             080 41714161   \n",
              "location                                                          Banashankari   \n",
              "rest_type                                                        Casual Dining   \n",
              "dish_liked                   Momos, Lunch Buffet, Chocolate Nirvana, Thai G...   \n",
              "cuisines                                           Chinese, North Indian, Thai   \n",
              "approx_cost(for two people)                                                800   \n",
              "reviews_list                 [('Rated 4.0', 'RATED\\n  Had been here for din...   \n",
              "menu_item                                                                   []   \n",
              "listed_in(type)                                                         Buffet   \n",
              "listed_in(city)                                                   Banashankari   \n",
              "\n",
              "                                                                             2  \\\n",
              "url                          https://www.zomato.com/SanchurroBangalore?cont...   \n",
              "address                      1112, Next to KIMS Medical College, 17th Cross...   \n",
              "name                                                           San Churro Cafe   \n",
              "online_order                                                               Yes   \n",
              "book_table                                                                  No   \n",
              "rate                                                                     3.8/5   \n",
              "votes                                                                      918   \n",
              "phone                                                           +91 9663487993   \n",
              "location                                                          Banashankari   \n",
              "rest_type                                                  Cafe, Casual Dining   \n",
              "dish_liked                   Churros, Cannelloni, Minestrone Soup, Hot Choc...   \n",
              "cuisines                                                Cafe, Mexican, Italian   \n",
              "approx_cost(for two people)                                                800   \n",
              "reviews_list                 [('Rated 3.0', \"RATED\\n  Ambience is not that ...   \n",
              "menu_item                                                                   []   \n",
              "listed_in(type)                                                         Buffet   \n",
              "listed_in(city)                                                   Banashankari   \n",
              "\n",
              "                                                                             3  \\\n",
              "url                          https://www.zomato.com/bangalore/addhuri-udupi...   \n",
              "address                      1st Floor, Annakuteera, 3rd Stage, Banashankar...   \n",
              "name                                                     Addhuri Udupi Bhojana   \n",
              "online_order                                                                No   \n",
              "book_table                                                                  No   \n",
              "rate                                                                     3.7/5   \n",
              "votes                                                                       88   \n",
              "phone                                                           +91 9620009302   \n",
              "location                                                          Banashankari   \n",
              "rest_type                                                          Quick Bites   \n",
              "dish_liked                                                         Masala Dosa   \n",
              "cuisines                                            South Indian, North Indian   \n",
              "approx_cost(for two people)                                                300   \n",
              "reviews_list                 [('Rated 4.0', \"RATED\\n  Great food and proper...   \n",
              "menu_item                                                                   []   \n",
              "listed_in(type)                                                         Buffet   \n",
              "listed_in(city)                                                   Banashankari   \n",
              "\n",
              "                                                                             4  \n",
              "url                          https://www.zomato.com/bangalore/grand-village...  \n",
              "address                      10, 3rd Floor, Lakshmi Associates, Gandhi Baza...  \n",
              "name                                                             Grand Village  \n",
              "online_order                                                                No  \n",
              "book_table                                                                  No  \n",
              "rate                                                                     3.8/5  \n",
              "votes                                                                      166  \n",
              "phone                                         +91 8026612447\\r\\n+91 9901210005  \n",
              "location                                                          Basavanagudi  \n",
              "rest_type                                                        Casual Dining  \n",
              "dish_liked                                                 Panipuri, Gol Gappe  \n",
              "cuisines                                              North Indian, Rajasthani  \n",
              "approx_cost(for two people)                                                600  \n",
              "reviews_list                 [('Rated 4.0', 'RATED\\n  Very good restaurant ...  \n",
              "menu_item                                                                   []  \n",
              "listed_in(type)                                                         Buffet  \n",
              "listed_in(city)                                                   Banashankari  "
            ],
            "text/html": [
              "\n",
              "  <div id=\"df-152b85af-e0fd-42ec-821e-ec8c03a68d9e\">\n",
              "    <div class=\"colab-df-container\">\n",
              "      <div>\n",
              "<style scoped>\n",
              "    .dataframe tbody tr th:only-of-type {\n",
              "        vertical-align: middle;\n",
              "    }\n",
              "\n",
              "    .dataframe tbody tr th {\n",
              "        vertical-align: top;\n",
              "    }\n",
              "\n",
              "    .dataframe thead th {\n",
              "        text-align: right;\n",
              "    }\n",
              "</style>\n",
              "<table border=\"1\" class=\"dataframe\">\n",
              "  <thead>\n",
              "    <tr style=\"text-align: right;\">\n",
              "      <th></th>\n",
              "      <th>0</th>\n",
              "      <th>1</th>\n",
              "      <th>2</th>\n",
              "      <th>3</th>\n",
              "      <th>4</th>\n",
              "    </tr>\n",
              "  </thead>\n",
              "  <tbody>\n",
              "    <tr>\n",
              "      <th>url</th>\n",
              "      <td>https://www.zomato.com/bangalore/jalsa-banasha...</td>\n",
              "      <td>https://www.zomato.com/bangalore/spice-elephan...</td>\n",
              "      <td>https://www.zomato.com/SanchurroBangalore?cont...</td>\n",
              "      <td>https://www.zomato.com/bangalore/addhuri-udupi...</td>\n",
              "      <td>https://www.zomato.com/bangalore/grand-village...</td>\n",
              "    </tr>\n",
              "    <tr>\n",
              "      <th>address</th>\n",
              "      <td>942, 21st Main Road, 2nd Stage, Banashankari, ...</td>\n",
              "      <td>2nd Floor, 80 Feet Road, Near Big Bazaar, 6th ...</td>\n",
              "      <td>1112, Next to KIMS Medical College, 17th Cross...</td>\n",
              "      <td>1st Floor, Annakuteera, 3rd Stage, Banashankar...</td>\n",
              "      <td>10, 3rd Floor, Lakshmi Associates, Gandhi Baza...</td>\n",
              "    </tr>\n",
              "    <tr>\n",
              "      <th>name</th>\n",
              "      <td>Jalsa</td>\n",
              "      <td>Spice Elephant</td>\n",
              "      <td>San Churro Cafe</td>\n",
              "      <td>Addhuri Udupi Bhojana</td>\n",
              "      <td>Grand Village</td>\n",
              "    </tr>\n",
              "    <tr>\n",
              "      <th>online_order</th>\n",
              "      <td>Yes</td>\n",
              "      <td>Yes</td>\n",
              "      <td>Yes</td>\n",
              "      <td>No</td>\n",
              "      <td>No</td>\n",
              "    </tr>\n",
              "    <tr>\n",
              "      <th>book_table</th>\n",
              "      <td>Yes</td>\n",
              "      <td>No</td>\n",
              "      <td>No</td>\n",
              "      <td>No</td>\n",
              "      <td>No</td>\n",
              "    </tr>\n",
              "    <tr>\n",
              "      <th>rate</th>\n",
              "      <td>4.1/5</td>\n",
              "      <td>4.1/5</td>\n",
              "      <td>3.8/5</td>\n",
              "      <td>3.7/5</td>\n",
              "      <td>3.8/5</td>\n",
              "    </tr>\n",
              "    <tr>\n",
              "      <th>votes</th>\n",
              "      <td>775</td>\n",
              "      <td>787</td>\n",
              "      <td>918</td>\n",
              "      <td>88</td>\n",
              "      <td>166</td>\n",
              "    </tr>\n",
              "    <tr>\n",
              "      <th>phone</th>\n",
              "      <td>080 42297555\\r\\n+91 9743772233</td>\n",
              "      <td>080 41714161</td>\n",
              "      <td>+91 9663487993</td>\n",
              "      <td>+91 9620009302</td>\n",
              "      <td>+91 8026612447\\r\\n+91 9901210005</td>\n",
              "    </tr>\n",
              "    <tr>\n",
              "      <th>location</th>\n",
              "      <td>Banashankari</td>\n",
              "      <td>Banashankari</td>\n",
              "      <td>Banashankari</td>\n",
              "      <td>Banashankari</td>\n",
              "      <td>Basavanagudi</td>\n",
              "    </tr>\n",
              "    <tr>\n",
              "      <th>rest_type</th>\n",
              "      <td>Casual Dining</td>\n",
              "      <td>Casual Dining</td>\n",
              "      <td>Cafe, Casual Dining</td>\n",
              "      <td>Quick Bites</td>\n",
              "      <td>Casual Dining</td>\n",
              "    </tr>\n",
              "    <tr>\n",
              "      <th>dish_liked</th>\n",
              "      <td>Pasta, Lunch Buffet, Masala Papad, Paneer Laja...</td>\n",
              "      <td>Momos, Lunch Buffet, Chocolate Nirvana, Thai G...</td>\n",
              "      <td>Churros, Cannelloni, Minestrone Soup, Hot Choc...</td>\n",
              "      <td>Masala Dosa</td>\n",
              "      <td>Panipuri, Gol Gappe</td>\n",
              "    </tr>\n",
              "    <tr>\n",
              "      <th>cuisines</th>\n",
              "      <td>North Indian, Mughlai, Chinese</td>\n",
              "      <td>Chinese, North Indian, Thai</td>\n",
              "      <td>Cafe, Mexican, Italian</td>\n",
              "      <td>South Indian, North Indian</td>\n",
              "      <td>North Indian, Rajasthani</td>\n",
              "    </tr>\n",
              "    <tr>\n",
              "      <th>approx_cost(for two people)</th>\n",
              "      <td>800</td>\n",
              "      <td>800</td>\n",
              "      <td>800</td>\n",
              "      <td>300</td>\n",
              "      <td>600</td>\n",
              "    </tr>\n",
              "    <tr>\n",
              "      <th>reviews_list</th>\n",
              "      <td>[('Rated 4.0', 'RATED\\n  A beautiful place to ...</td>\n",
              "      <td>[('Rated 4.0', 'RATED\\n  Had been here for din...</td>\n",
              "      <td>[('Rated 3.0', \"RATED\\n  Ambience is not that ...</td>\n",
              "      <td>[('Rated 4.0', \"RATED\\n  Great food and proper...</td>\n",
              "      <td>[('Rated 4.0', 'RATED\\n  Very good restaurant ...</td>\n",
              "    </tr>\n",
              "    <tr>\n",
              "      <th>menu_item</th>\n",
              "      <td>[]</td>\n",
              "      <td>[]</td>\n",
              "      <td>[]</td>\n",
              "      <td>[]</td>\n",
              "      <td>[]</td>\n",
              "    </tr>\n",
              "    <tr>\n",
              "      <th>listed_in(type)</th>\n",
              "      <td>Buffet</td>\n",
              "      <td>Buffet</td>\n",
              "      <td>Buffet</td>\n",
              "      <td>Buffet</td>\n",
              "      <td>Buffet</td>\n",
              "    </tr>\n",
              "    <tr>\n",
              "      <th>listed_in(city)</th>\n",
              "      <td>Banashankari</td>\n",
              "      <td>Banashankari</td>\n",
              "      <td>Banashankari</td>\n",
              "      <td>Banashankari</td>\n",
              "      <td>Banashankari</td>\n",
              "    </tr>\n",
              "  </tbody>\n",
              "</table>\n",
              "</div>\n",
              "      <button class=\"colab-df-convert\" onclick=\"convertToInteractive('df-152b85af-e0fd-42ec-821e-ec8c03a68d9e')\"\n",
              "              title=\"Convert this dataframe to an interactive table.\"\n",
              "              style=\"display:none;\">\n",
              "        \n",
              "  <svg xmlns=\"http://www.w3.org/2000/svg\" height=\"24px\"viewBox=\"0 0 24 24\"\n",
              "       width=\"24px\">\n",
              "    <path d=\"M0 0h24v24H0V0z\" fill=\"none\"/>\n",
              "    <path d=\"M18.56 5.44l.94 2.06.94-2.06 2.06-.94-2.06-.94-.94-2.06-.94 2.06-2.06.94zm-11 1L8.5 8.5l.94-2.06 2.06-.94-2.06-.94L8.5 2.5l-.94 2.06-2.06.94zm10 10l.94 2.06.94-2.06 2.06-.94-2.06-.94-.94-2.06-.94 2.06-2.06.94z\"/><path d=\"M17.41 7.96l-1.37-1.37c-.4-.4-.92-.59-1.43-.59-.52 0-1.04.2-1.43.59L10.3 9.45l-7.72 7.72c-.78.78-.78 2.05 0 2.83L4 21.41c.39.39.9.59 1.41.59.51 0 1.02-.2 1.41-.59l7.78-7.78 2.81-2.81c.8-.78.8-2.07 0-2.86zM5.41 20L4 18.59l7.72-7.72 1.47 1.35L5.41 20z\"/>\n",
              "  </svg>\n",
              "      </button>\n",
              "      \n",
              "  <style>\n",
              "    .colab-df-container {\n",
              "      display:flex;\n",
              "      flex-wrap:wrap;\n",
              "      gap: 12px;\n",
              "    }\n",
              "\n",
              "    .colab-df-convert {\n",
              "      background-color: #E8F0FE;\n",
              "      border: none;\n",
              "      border-radius: 50%;\n",
              "      cursor: pointer;\n",
              "      display: none;\n",
              "      fill: #1967D2;\n",
              "      height: 32px;\n",
              "      padding: 0 0 0 0;\n",
              "      width: 32px;\n",
              "    }\n",
              "\n",
              "    .colab-df-convert:hover {\n",
              "      background-color: #E2EBFA;\n",
              "      box-shadow: 0px 1px 2px rgba(60, 64, 67, 0.3), 0px 1px 3px 1px rgba(60, 64, 67, 0.15);\n",
              "      fill: #174EA6;\n",
              "    }\n",
              "\n",
              "    [theme=dark] .colab-df-convert {\n",
              "      background-color: #3B4455;\n",
              "      fill: #D2E3FC;\n",
              "    }\n",
              "\n",
              "    [theme=dark] .colab-df-convert:hover {\n",
              "      background-color: #434B5C;\n",
              "      box-shadow: 0px 1px 3px 1px rgba(0, 0, 0, 0.15);\n",
              "      filter: drop-shadow(0px 1px 2px rgba(0, 0, 0, 0.3));\n",
              "      fill: #FFFFFF;\n",
              "    }\n",
              "  </style>\n",
              "\n",
              "      <script>\n",
              "        const buttonEl =\n",
              "          document.querySelector('#df-152b85af-e0fd-42ec-821e-ec8c03a68d9e button.colab-df-convert');\n",
              "        buttonEl.style.display =\n",
              "          google.colab.kernel.accessAllowed ? 'block' : 'none';\n",
              "\n",
              "        async function convertToInteractive(key) {\n",
              "          const element = document.querySelector('#df-152b85af-e0fd-42ec-821e-ec8c03a68d9e');\n",
              "          const dataTable =\n",
              "            await google.colab.kernel.invokeFunction('convertToInteractive',\n",
              "                                                     [key], {});\n",
              "          if (!dataTable) return;\n",
              "\n",
              "          const docLinkHtml = 'Like what you see? Visit the ' +\n",
              "            '<a target=\"_blank\" href=https://colab.research.google.com/notebooks/data_table.ipynb>data table notebook</a>'\n",
              "            + ' to learn more about interactive tables.';\n",
              "          element.innerHTML = '';\n",
              "          dataTable['output_type'] = 'display_data';\n",
              "          await google.colab.output.renderOutput(dataTable, element);\n",
              "          const docLink = document.createElement('div');\n",
              "          docLink.innerHTML = docLinkHtml;\n",
              "          element.appendChild(docLink);\n",
              "        }\n",
              "      </script>\n",
              "    </div>\n",
              "  </div>\n",
              "  "
            ]
          },
          "metadata": {},
          "execution_count": 76
        }
      ]
    },
    {
      "cell_type": "markdown",
      "source": [
        "***Checking the values count and datatypes of the coloumns***"
      ],
      "metadata": {
        "id": "bpCzOYhuPSip"
      }
    },
    {
      "cell_type": "code",
      "source": [
        "df1.info()"
      ],
      "metadata": {
        "colab": {
          "base_uri": "https://localhost:8080/"
        },
        "id": "Ox91IV72KTFR",
        "outputId": "aaeb7059-7375-48cd-ac94-0bd79991dc53"
      },
      "execution_count": null,
      "outputs": [
        {
          "output_type": "stream",
          "name": "stdout",
          "text": [
            "<class 'pandas.core.frame.DataFrame'>\n",
            "RangeIndex: 51717 entries, 0 to 51716\n",
            "Data columns (total 17 columns):\n",
            " #   Column                       Non-Null Count  Dtype \n",
            "---  ------                       --------------  ----- \n",
            " 0   url                          51717 non-null  object\n",
            " 1   address                      51717 non-null  object\n",
            " 2   name                         51717 non-null  object\n",
            " 3   online_order                 51717 non-null  object\n",
            " 4   book_table                   51717 non-null  object\n",
            " 5   rate                         43942 non-null  object\n",
            " 6   votes                        51717 non-null  int64 \n",
            " 7   phone                        50509 non-null  object\n",
            " 8   location                     51696 non-null  object\n",
            " 9   rest_type                    51490 non-null  object\n",
            " 10  dish_liked                   23639 non-null  object\n",
            " 11  cuisines                     51672 non-null  object\n",
            " 12  approx_cost(for two people)  51371 non-null  object\n",
            " 13  reviews_list                 51717 non-null  object\n",
            " 14  menu_item                    51717 non-null  object\n",
            " 15  listed_in(type)              51717 non-null  object\n",
            " 16  listed_in(city)              51717 non-null  object\n",
            "dtypes: int64(1), object(16)\n",
            "memory usage: 6.7+ MB\n"
          ]
        }
      ]
    },
    {
      "cell_type": "markdown",
      "source": [
        "***Now we will understand the numerical information of our data***"
      ],
      "metadata": {
        "id": "9yNYN0UEPZd6"
      }
    },
    {
      "cell_type": "code",
      "source": [
        "df1.describe()"
      ],
      "metadata": {
        "colab": {
          "base_uri": "https://localhost:8080/",
          "height": 300
        },
        "id": "sOw0SGJDKg1Z",
        "outputId": "5560a0c6-61bf-4998-d5e1-5abbfbac0459"
      },
      "execution_count": null,
      "outputs": [
        {
          "output_type": "execute_result",
          "data": {
            "text/plain": [
              "              votes\n",
              "count  51717.000000\n",
              "mean     283.697527\n",
              "std      803.838853\n",
              "min        0.000000\n",
              "25%        7.000000\n",
              "50%       41.000000\n",
              "75%      198.000000\n",
              "max    16832.000000"
            ],
            "text/html": [
              "\n",
              "  <div id=\"df-62709fa1-87a4-4f1d-9332-f9bb021fb60c\">\n",
              "    <div class=\"colab-df-container\">\n",
              "      <div>\n",
              "<style scoped>\n",
              "    .dataframe tbody tr th:only-of-type {\n",
              "        vertical-align: middle;\n",
              "    }\n",
              "\n",
              "    .dataframe tbody tr th {\n",
              "        vertical-align: top;\n",
              "    }\n",
              "\n",
              "    .dataframe thead th {\n",
              "        text-align: right;\n",
              "    }\n",
              "</style>\n",
              "<table border=\"1\" class=\"dataframe\">\n",
              "  <thead>\n",
              "    <tr style=\"text-align: right;\">\n",
              "      <th></th>\n",
              "      <th>votes</th>\n",
              "    </tr>\n",
              "  </thead>\n",
              "  <tbody>\n",
              "    <tr>\n",
              "      <th>count</th>\n",
              "      <td>51717.000000</td>\n",
              "    </tr>\n",
              "    <tr>\n",
              "      <th>mean</th>\n",
              "      <td>283.697527</td>\n",
              "    </tr>\n",
              "    <tr>\n",
              "      <th>std</th>\n",
              "      <td>803.838853</td>\n",
              "    </tr>\n",
              "    <tr>\n",
              "      <th>min</th>\n",
              "      <td>0.000000</td>\n",
              "    </tr>\n",
              "    <tr>\n",
              "      <th>25%</th>\n",
              "      <td>7.000000</td>\n",
              "    </tr>\n",
              "    <tr>\n",
              "      <th>50%</th>\n",
              "      <td>41.000000</td>\n",
              "    </tr>\n",
              "    <tr>\n",
              "      <th>75%</th>\n",
              "      <td>198.000000</td>\n",
              "    </tr>\n",
              "    <tr>\n",
              "      <th>max</th>\n",
              "      <td>16832.000000</td>\n",
              "    </tr>\n",
              "  </tbody>\n",
              "</table>\n",
              "</div>\n",
              "      <button class=\"colab-df-convert\" onclick=\"convertToInteractive('df-62709fa1-87a4-4f1d-9332-f9bb021fb60c')\"\n",
              "              title=\"Convert this dataframe to an interactive table.\"\n",
              "              style=\"display:none;\">\n",
              "        \n",
              "  <svg xmlns=\"http://www.w3.org/2000/svg\" height=\"24px\"viewBox=\"0 0 24 24\"\n",
              "       width=\"24px\">\n",
              "    <path d=\"M0 0h24v24H0V0z\" fill=\"none\"/>\n",
              "    <path d=\"M18.56 5.44l.94 2.06.94-2.06 2.06-.94-2.06-.94-.94-2.06-.94 2.06-2.06.94zm-11 1L8.5 8.5l.94-2.06 2.06-.94-2.06-.94L8.5 2.5l-.94 2.06-2.06.94zm10 10l.94 2.06.94-2.06 2.06-.94-2.06-.94-.94-2.06-.94 2.06-2.06.94z\"/><path d=\"M17.41 7.96l-1.37-1.37c-.4-.4-.92-.59-1.43-.59-.52 0-1.04.2-1.43.59L10.3 9.45l-7.72 7.72c-.78.78-.78 2.05 0 2.83L4 21.41c.39.39.9.59 1.41.59.51 0 1.02-.2 1.41-.59l7.78-7.78 2.81-2.81c.8-.78.8-2.07 0-2.86zM5.41 20L4 18.59l7.72-7.72 1.47 1.35L5.41 20z\"/>\n",
              "  </svg>\n",
              "      </button>\n",
              "      \n",
              "  <style>\n",
              "    .colab-df-container {\n",
              "      display:flex;\n",
              "      flex-wrap:wrap;\n",
              "      gap: 12px;\n",
              "    }\n",
              "\n",
              "    .colab-df-convert {\n",
              "      background-color: #E8F0FE;\n",
              "      border: none;\n",
              "      border-radius: 50%;\n",
              "      cursor: pointer;\n",
              "      display: none;\n",
              "      fill: #1967D2;\n",
              "      height: 32px;\n",
              "      padding: 0 0 0 0;\n",
              "      width: 32px;\n",
              "    }\n",
              "\n",
              "    .colab-df-convert:hover {\n",
              "      background-color: #E2EBFA;\n",
              "      box-shadow: 0px 1px 2px rgba(60, 64, 67, 0.3), 0px 1px 3px 1px rgba(60, 64, 67, 0.15);\n",
              "      fill: #174EA6;\n",
              "    }\n",
              "\n",
              "    [theme=dark] .colab-df-convert {\n",
              "      background-color: #3B4455;\n",
              "      fill: #D2E3FC;\n",
              "    }\n",
              "\n",
              "    [theme=dark] .colab-df-convert:hover {\n",
              "      background-color: #434B5C;\n",
              "      box-shadow: 0px 1px 3px 1px rgba(0, 0, 0, 0.15);\n",
              "      filter: drop-shadow(0px 1px 2px rgba(0, 0, 0, 0.3));\n",
              "      fill: #FFFFFF;\n",
              "    }\n",
              "  </style>\n",
              "\n",
              "      <script>\n",
              "        const buttonEl =\n",
              "          document.querySelector('#df-62709fa1-87a4-4f1d-9332-f9bb021fb60c button.colab-df-convert');\n",
              "        buttonEl.style.display =\n",
              "          google.colab.kernel.accessAllowed ? 'block' : 'none';\n",
              "\n",
              "        async function convertToInteractive(key) {\n",
              "          const element = document.querySelector('#df-62709fa1-87a4-4f1d-9332-f9bb021fb60c');\n",
              "          const dataTable =\n",
              "            await google.colab.kernel.invokeFunction('convertToInteractive',\n",
              "                                                     [key], {});\n",
              "          if (!dataTable) return;\n",
              "\n",
              "          const docLinkHtml = 'Like what you see? Visit the ' +\n",
              "            '<a target=\"_blank\" href=https://colab.research.google.com/notebooks/data_table.ipynb>data table notebook</a>'\n",
              "            + ' to learn more about interactive tables.';\n",
              "          element.innerHTML = '';\n",
              "          dataTable['output_type'] = 'display_data';\n",
              "          await google.colab.output.renderOutput(dataTable, element);\n",
              "          const docLink = document.createElement('div');\n",
              "          docLink.innerHTML = docLinkHtml;\n",
              "          element.appendChild(docLink);\n",
              "        }\n",
              "      </script>\n",
              "    </div>\n",
              "  </div>\n",
              "  "
            ]
          },
          "metadata": {},
          "execution_count": 78
        }
      ]
    },
    {
      "cell_type": "markdown",
      "source": [
        "***Now we will check duplicate data***"
      ],
      "metadata": {
        "id": "r7n-ZwbtRo7E"
      }
    },
    {
      "cell_type": "code",
      "source": [
        "df1.duplicated().sum()"
      ],
      "metadata": {
        "colab": {
          "base_uri": "https://localhost:8080/"
        },
        "id": "FufMhYfuHgco",
        "outputId": "9134dff5-bde7-4ac5-a192-55cc05446a1a"
      },
      "execution_count": null,
      "outputs": [
        {
          "output_type": "execute_result",
          "data": {
            "text/plain": [
              "0"
            ]
          },
          "metadata": {},
          "execution_count": 79
        }
      ]
    },
    {
      "cell_type": "markdown",
      "source": [
        "***Here we are cheaking null values in each columns***"
      ],
      "metadata": {
        "id": "Lr9a3hkzPhis"
      }
    },
    {
      "cell_type": "code",
      "source": [
        "df1.isnull().sum()"
      ],
      "metadata": {
        "colab": {
          "base_uri": "https://localhost:8080/"
        },
        "id": "lcl9ZjcNR5Em",
        "outputId": "f9476059-d118-4d5f-fd80-ddb6bbf21dd1"
      },
      "execution_count": null,
      "outputs": [
        {
          "output_type": "execute_result",
          "data": {
            "text/plain": [
              "url                                0\n",
              "address                            0\n",
              "name                               0\n",
              "online_order                       0\n",
              "book_table                         0\n",
              "rate                            7775\n",
              "votes                              0\n",
              "phone                           1208\n",
              "location                          21\n",
              "rest_type                        227\n",
              "dish_liked                     28078\n",
              "cuisines                          45\n",
              "approx_cost(for two people)      346\n",
              "reviews_list                       0\n",
              "menu_item                          0\n",
              "listed_in(type)                    0\n",
              "listed_in(city)                    0\n",
              "dtype: int64"
            ]
          },
          "metadata": {},
          "execution_count": 80
        }
      ]
    },
    {
      "cell_type": "markdown",
      "source": [
        "***Drop the Columns***"
      ],
      "metadata": {
        "id": "KrSW1Wd05Uqk"
      }
    },
    {
      "cell_type": "code",
      "source": [
        "df1.drop(['phone','dish_liked','address','url'],axis=1,inplace=True)"
      ],
      "metadata": {
        "id": "kYtiFMdNHgi3"
      },
      "execution_count": null,
      "outputs": []
    },
    {
      "cell_type": "markdown",
      "source": [
        "***Removing '/5' from rate***"
      ],
      "metadata": {
        "id": "1sfXIe725crf"
      }
    },
    {
      "cell_type": "code",
      "source": [
        "def rating(value):\n",
        "    if (value == 'NEW' or value =='-'):\n",
        "        return np.nan\n",
        "    else:\n",
        "        value = str(value).split('/')\n",
        "        value = value[0]\n",
        "        return float(value)\n",
        "\n",
        "df1['rate'] = df1['rate'].apply(rating)\n",
        "df1['rate'].value_counts()"
      ],
      "metadata": {
        "id": "pUcuR5UlHglU",
        "colab": {
          "base_uri": "https://localhost:8080/"
        },
        "outputId": "2c93d8a0-e916-4a5a-de8e-e88ff7292783"
      },
      "execution_count": null,
      "outputs": [
        {
          "output_type": "execute_result",
          "data": {
            "text/plain": [
              "3.9    3972\n",
              "3.8    3873\n",
              "3.7    3821\n",
              "3.6    3316\n",
              "4.0    3183\n",
              "4.1    2948\n",
              "3.5    2784\n",
              "3.4    2476\n",
              "3.3    2310\n",
              "4.2    2184\n",
              "3.2    1873\n",
              "4.3    1693\n",
              "3.1    1561\n",
              "4.4    1147\n",
              "3.0    1023\n",
              "2.9     802\n",
              "4.5     656\n",
              "2.8     600\n",
              "2.7     307\n",
              "4.6     300\n",
              "2.6     260\n",
              "4.7     167\n",
              "2.5     101\n",
              "2.4      70\n",
              "4.8      66\n",
              "4.9      55\n",
              "2.3      51\n",
              "2.2      26\n",
              "2.1      24\n",
              "2.0      11\n",
              "1.8       5\n",
              "Name: rate, dtype: int64"
            ]
          },
          "metadata": {},
          "execution_count": 82
        }
      ]
    },
    {
      "cell_type": "markdown",
      "source": [
        "***Check for null values***"
      ],
      "metadata": {
        "id": "A2ImbyOw5xVY"
      }
    },
    {
      "cell_type": "code",
      "source": [
        "df1.isnull().sum()"
      ],
      "metadata": {
        "colab": {
          "base_uri": "https://localhost:8080/"
        },
        "id": "mnn0L7dvmAcM",
        "outputId": "6f668017-8bab-4de6-fe70-9bcf3acb8984"
      },
      "execution_count": null,
      "outputs": [
        {
          "output_type": "execute_result",
          "data": {
            "text/plain": [
              "name                               0\n",
              "online_order                       0\n",
              "book_table                         0\n",
              "rate                           10052\n",
              "votes                              0\n",
              "location                          21\n",
              "rest_type                        227\n",
              "cuisines                          45\n",
              "approx_cost(for two people)      346\n",
              "reviews_list                       0\n",
              "menu_item                          0\n",
              "listed_in(type)                    0\n",
              "listed_in(city)                    0\n",
              "dtype: int64"
            ]
          },
          "metadata": {},
          "execution_count": 83
        }
      ]
    },
    {
      "cell_type": "code",
      "source": [
        "rest_type = df1['rest_type'].value_counts(ascending = False)\n",
        "rest_type"
      ],
      "metadata": {
        "colab": {
          "base_uri": "https://localhost:8080/"
        },
        "id": "XeQgmoXjnT-7",
        "outputId": "41e43b7e-1c2f-4174-cc36-00267b27f7f4"
      },
      "execution_count": null,
      "outputs": [
        {
          "output_type": "execute_result",
          "data": {
            "text/plain": [
              "Quick Bites                   19132\n",
              "Casual Dining                 10330\n",
              "Cafe                           3732\n",
              "Delivery                       2604\n",
              "Dessert Parlor                 2263\n",
              "                              ...  \n",
              "Dessert Parlor, Kiosk             2\n",
              "Food Court, Beverage Shop         2\n",
              "Dessert Parlor, Food Court        2\n",
              "Sweet Shop, Dessert Parlor        1\n",
              "Quick Bites, Kiosk                1\n",
              "Name: rest_type, Length: 93, dtype: int64"
            ]
          },
          "metadata": {},
          "execution_count": 84
        }
      ]
    },
    {
      "cell_type": "markdown",
      "source": [
        "***let's Fix Rest_type Column***\n",
        "\n",
        "less then 1000 counts to others"
      ],
      "metadata": {
        "id": "jvwS0dql6V_B"
      }
    },
    {
      "cell_type": "code",
      "source": [
        "rest_type_lessthan1000 = rest_type[rest_type<1000]\n",
        "rest_type_lessthan1000"
      ],
      "metadata": {
        "colab": {
          "base_uri": "https://localhost:8080/"
        },
        "id": "SjIzWGm4mnMS",
        "outputId": "a1932388-3ecd-48cf-d59e-d5e2acbb588b"
      },
      "execution_count": null,
      "outputs": [
        {
          "output_type": "execute_result",
          "data": {
            "text/plain": [
              "Beverage Shop                 867\n",
              "Bar                           697\n",
              "Food Court                    624\n",
              "Sweet Shop                    468\n",
              "Bar, Casual Dining            425\n",
              "                             ... \n",
              "Dessert Parlor, Kiosk           2\n",
              "Food Court, Beverage Shop       2\n",
              "Dessert Parlor, Food Court      2\n",
              "Sweet Shop, Dessert Parlor      1\n",
              "Quick Bites, Kiosk              1\n",
              "Name: rest_type, Length: 85, dtype: int64"
            ]
          },
          "metadata": {},
          "execution_count": 85
        }
      ]
    },
    {
      "cell_type": "code",
      "source": [
        "def fix_rest_type(value):\n",
        "  if(value in rest_type_lessthan1000):\n",
        "     return \"others\"\n",
        "  else :\n",
        "    return value\n",
        "\n",
        "df1['rest_type'] = df1['rest_type'].apply(fix_rest_type)\n",
        "df1['rest_type'].value_counts()"
      ],
      "metadata": {
        "colab": {
          "base_uri": "https://localhost:8080/"
        },
        "id": "NObuE1aTobQY",
        "outputId": "d69a9798-594e-4a1e-a3cc-78d3fb04eacb"
      },
      "execution_count": null,
      "outputs": [
        {
          "output_type": "execute_result",
          "data": {
            "text/plain": [
              "Quick Bites           19132\n",
              "Casual Dining         10330\n",
              "others                 9097\n",
              "Cafe                   3732\n",
              "Delivery               2604\n",
              "Dessert Parlor         2263\n",
              "Takeaway, Delivery     2037\n",
              "Casual Dining, Bar     1154\n",
              "Bakery                 1141\n",
              "Name: rest_type, dtype: int64"
            ]
          },
          "metadata": {},
          "execution_count": 86
        }
      ]
    },
    {
      "cell_type": "markdown",
      "source": [
        "***let's Fix cuisines Column***"
      ],
      "metadata": {
        "id": "pk4vvnvE7E-n"
      }
    },
    {
      "cell_type": "code",
      "source": [
        "df1['cuisines'].unique()"
      ],
      "metadata": {
        "colab": {
          "base_uri": "https://localhost:8080/"
        },
        "id": "HFXBTzUbhbR-",
        "outputId": "73814128-3697-430a-eda9-4529fa78aaec"
      },
      "execution_count": null,
      "outputs": [
        {
          "output_type": "execute_result",
          "data": {
            "text/plain": [
              "array(['North Indian, Mughlai, Chinese', 'Chinese, North Indian, Thai',\n",
              "       'Cafe, Mexican, Italian', ...,\n",
              "       'North Indian, Street Food, Biryani', 'Chinese, Mughlai',\n",
              "       'North Indian, Chinese, Arabian, Momos'], dtype=object)"
            ]
          },
          "metadata": {},
          "execution_count": 87
        }
      ]
    },
    {
      "cell_type": "code",
      "source": [
        "cuisines = df1['cuisines'].value_counts(ascending = False)\n",
        "cuisines"
      ],
      "metadata": {
        "colab": {
          "base_uri": "https://localhost:8080/"
        },
        "id": "IzPmlPIyhpSq",
        "outputId": "eba8e2be-8185-448e-87d2-49f8b5d0f5d0"
      },
      "execution_count": null,
      "outputs": [
        {
          "output_type": "execute_result",
          "data": {
            "text/plain": [
              "North Indian                                   2913\n",
              "North Indian, Chinese                          2385\n",
              "South Indian                                   1828\n",
              "Biryani                                         918\n",
              "Bakery, Desserts                                911\n",
              "                                               ... \n",
              "North Indian, Chinese, South Indian, Juices       1\n",
              "North Indian, Chinese, Kebab, Mughlai             1\n",
              "Chinese, Vietnamese, Thai, Malaysian              1\n",
              "Arabian, Lebanese, Chinese, Rolls                 1\n",
              "North Indian, Chinese, Arabian, Momos             1\n",
              "Name: cuisines, Length: 2723, dtype: int64"
            ]
          },
          "metadata": {},
          "execution_count": 88
        }
      ]
    },
    {
      "cell_type": "code",
      "source": [
        "cuisines_lessthan100 = cuisines[cuisines<100]"
      ],
      "metadata": {
        "id": "4fU2odyRrgNz"
      },
      "execution_count": null,
      "outputs": []
    },
    {
      "cell_type": "code",
      "source": [
        "def fix_cuisines(value):\n",
        "  if(value in cuisines_lessthan100):\n",
        "    return \"others\"\n",
        "  else:\n",
        "    return value\n",
        "\n",
        "df1['cuisines'] = df1['cuisines'].apply(fix_cuisines)\n",
        "df1['cuisines'].value_counts()"
      ],
      "metadata": {
        "colab": {
          "base_uri": "https://localhost:8080/"
        },
        "id": "msClgPMArgJe",
        "outputId": "46fde1a2-6401-4721-d157-08d64117b181"
      },
      "execution_count": null,
      "outputs": [
        {
          "output_type": "execute_result",
          "data": {
            "text/plain": [
              "others                                 26460\n",
              "North Indian                            2913\n",
              "North Indian, Chinese                   2385\n",
              "South Indian                            1828\n",
              "Biryani                                  918\n",
              "                                       ...  \n",
              "South Indian, Chinese, North Indian      105\n",
              "Italian, Pizza                           105\n",
              "North Indian, Mughlai, Chinese           104\n",
              "South Indian, Fast Food                  104\n",
              "North Indian, Chinese, Seafood           102\n",
              "Name: cuisines, Length: 70, dtype: int64"
            ]
          },
          "metadata": {},
          "execution_count": 90
        }
      ]
    },
    {
      "cell_type": "markdown",
      "source": [
        "***let's Fix approx_cost(for two people) Column***"
      ],
      "metadata": {
        "id": "w9lVIRPi7Lki"
      }
    },
    {
      "cell_type": "code",
      "source": [
        "df1['approx_cost(for two people)'].unique()"
      ],
      "metadata": {
        "colab": {
          "base_uri": "https://localhost:8080/"
        },
        "id": "XPdZK5uUu6ih",
        "outputId": "b0ccc392-59ca-4fb7-c8f1-c6548eb37552"
      },
      "execution_count": null,
      "outputs": [
        {
          "output_type": "execute_result",
          "data": {
            "text/plain": [
              "array(['800', '300', '600', '700', '550', '500', '450', '650', '400',\n",
              "       '900', '200', '750', '150', '850', '100', '1,200', '350', '250',\n",
              "       '950', '1,000', '1,500', '1,300', '199', '80', '1,100', '160',\n",
              "       '1,600', '230', '130', '50', '190', '1,700', nan, '1,400', '180',\n",
              "       '1,350', '2,200', '2,000', '1,800', '1,900', '330', '2,500',\n",
              "       '2,100', '3,000', '2,800', '3,400', '40', '1,250', '3,500',\n",
              "       '4,000', '2,400', '2,600', '120', '1,450', '469', '70', '3,200',\n",
              "       '60', '560', '240', '360', '6,000', '1,050', '2,300', '4,100',\n",
              "       '5,000', '3,700', '1,650', '2,700', '4,500', '140'], dtype=object)"
            ]
          },
          "metadata": {},
          "execution_count": 91
        }
      ]
    },
    {
      "cell_type": "code",
      "source": [
        "def two_people_cost(value):\n",
        "     value = str(value)\n",
        "     if ',' in value:\n",
        "        value = value.replace(',', '')\n",
        "        return float(value)\n",
        "     else:\n",
        "        return float(value)\n",
        "    \n",
        "df1['approx_cost(for two people)']=df1['approx_cost(for two people)'].apply(two_people_cost)\n",
        "df1['approx_cost(for two people)'].unique()"
      ],
      "metadata": {
        "colab": {
          "base_uri": "https://localhost:8080/"
        },
        "id": "VyIUxzAjhpMK",
        "outputId": "2c30c093-8beb-47ff-a376-b01e0cf29305"
      },
      "execution_count": null,
      "outputs": [
        {
          "output_type": "execute_result",
          "data": {
            "text/plain": [
              "array([ 800.,  300.,  600.,  700.,  550.,  500.,  450.,  650.,  400.,\n",
              "        900.,  200.,  750.,  150.,  850.,  100., 1200.,  350.,  250.,\n",
              "        950., 1000., 1500., 1300.,  199.,   80., 1100.,  160., 1600.,\n",
              "        230.,  130.,   50.,  190., 1700.,   nan, 1400.,  180., 1350.,\n",
              "       2200., 2000., 1800., 1900.,  330., 2500., 2100., 3000., 2800.,\n",
              "       3400.,   40., 1250., 3500., 4000., 2400., 2600.,  120., 1450.,\n",
              "        469.,   70., 3200.,   60.,  560.,  240.,  360., 6000., 1050.,\n",
              "       2300., 4100., 5000., 3700., 1650., 2700., 4500.,  140.])"
            ]
          },
          "metadata": {},
          "execution_count": 92
        }
      ]
    },
    {
      "cell_type": "code",
      "source": [
        "df1['approx_cost(for two people)'].dtype"
      ],
      "metadata": {
        "colab": {
          "base_uri": "https://localhost:8080/"
        },
        "id": "aYXjE4smjfbi",
        "outputId": "86cc01eb-9664-463a-ce28-bb170f93a93b"
      },
      "execution_count": null,
      "outputs": [
        {
          "output_type": "execute_result",
          "data": {
            "text/plain": [
              "dtype('float64')"
            ]
          },
          "metadata": {},
          "execution_count": 93
        }
      ]
    },
    {
      "cell_type": "markdown",
      "source": [
        "***Check for null values***"
      ],
      "metadata": {
        "id": "al-8lFR87ipu"
      }
    },
    {
      "cell_type": "code",
      "source": [
        "df1.isnull().sum()"
      ],
      "metadata": {
        "id": "HK7i3sC6Hgsu",
        "colab": {
          "base_uri": "https://localhost:8080/"
        },
        "outputId": "61762130-b35e-4b32-bd63-d9ea317a5336"
      },
      "execution_count": null,
      "outputs": [
        {
          "output_type": "execute_result",
          "data": {
            "text/plain": [
              "name                               0\n",
              "online_order                       0\n",
              "book_table                         0\n",
              "rate                           10052\n",
              "votes                              0\n",
              "location                          21\n",
              "rest_type                        227\n",
              "cuisines                          45\n",
              "approx_cost(for two people)      346\n",
              "reviews_list                       0\n",
              "menu_item                          0\n",
              "listed_in(type)                    0\n",
              "listed_in(city)                    0\n",
              "dtype: int64"
            ]
          },
          "metadata": {},
          "execution_count": 94
        }
      ]
    },
    {
      "cell_type": "markdown",
      "source": [
        "***Fill Rate Column Null Values to Mean Of Rate***"
      ],
      "metadata": {
        "id": "egoSMjLp7lib"
      }
    },
    {
      "cell_type": "code",
      "source": [
        "df1['rate'].fillna(df1['rate'].mean(),inplace=True)"
      ],
      "metadata": {
        "id": "q8AbsLkbHhCH"
      },
      "execution_count": null,
      "outputs": []
    },
    {
      "cell_type": "code",
      "source": [
        "df1.isnull().sum()"
      ],
      "metadata": {
        "id": "MH3dV5irHg-I",
        "colab": {
          "base_uri": "https://localhost:8080/"
        },
        "outputId": "bc4529bb-8f5b-4ec5-9397-fa6bafed6a8a"
      },
      "execution_count": null,
      "outputs": [
        {
          "output_type": "execute_result",
          "data": {
            "text/plain": [
              "name                             0\n",
              "online_order                     0\n",
              "book_table                       0\n",
              "rate                             0\n",
              "votes                            0\n",
              "location                        21\n",
              "rest_type                      227\n",
              "cuisines                        45\n",
              "approx_cost(for two people)    346\n",
              "reviews_list                     0\n",
              "menu_item                        0\n",
              "listed_in(type)                  0\n",
              "listed_in(city)                  0\n",
              "dtype: int64"
            ]
          },
          "metadata": {},
          "execution_count": 96
        }
      ]
    },
    {
      "cell_type": "code",
      "source": [
        "df1.dropna(inplace=True)\n"
      ],
      "metadata": {
        "id": "BhyeTWVXRJNk"
      },
      "execution_count": null,
      "outputs": []
    },
    {
      "cell_type": "code",
      "source": [
        "df1.shape"
      ],
      "metadata": {
        "id": "mvnPbqM1HhI5",
        "colab": {
          "base_uri": "https://localhost:8080/"
        },
        "outputId": "0a1da211-bdd6-4e49-cb85-136c0751d43b"
      },
      "execution_count": null,
      "outputs": [
        {
          "output_type": "execute_result",
          "data": {
            "text/plain": [
              "(51148, 13)"
            ]
          },
          "metadata": {},
          "execution_count": 98
        }
      ]
    },
    {
      "cell_type": "code",
      "source": [
        "df1.describe()"
      ],
      "metadata": {
        "id": "I7VNCzl-wNfP",
        "colab": {
          "base_uri": "https://localhost:8080/",
          "height": 300
        },
        "outputId": "d6e6ec89-38b0-4621-e1b0-36d6c5cc68a3"
      },
      "execution_count": null,
      "outputs": [
        {
          "output_type": "execute_result",
          "data": {
            "text/plain": [
              "               rate         votes  approx_cost(for two people)\n",
              "count  51148.000000  51148.000000                 51148.000000\n",
              "mean       3.701709    284.917885                   556.043736\n",
              "std        0.395188    806.495210                   439.555299\n",
              "min        1.800000      0.000000                    40.000000\n",
              "25%        3.500000      7.000000                   300.000000\n",
              "50%        3.700449     41.000000                   400.000000\n",
              "75%        3.900000    199.000000                   700.000000\n",
              "max        4.900000  16832.000000                  6000.000000"
            ],
            "text/html": [
              "\n",
              "  <div id=\"df-7e0f89f1-badc-4826-8437-851f23e5d865\">\n",
              "    <div class=\"colab-df-container\">\n",
              "      <div>\n",
              "<style scoped>\n",
              "    .dataframe tbody tr th:only-of-type {\n",
              "        vertical-align: middle;\n",
              "    }\n",
              "\n",
              "    .dataframe tbody tr th {\n",
              "        vertical-align: top;\n",
              "    }\n",
              "\n",
              "    .dataframe thead th {\n",
              "        text-align: right;\n",
              "    }\n",
              "</style>\n",
              "<table border=\"1\" class=\"dataframe\">\n",
              "  <thead>\n",
              "    <tr style=\"text-align: right;\">\n",
              "      <th></th>\n",
              "      <th>rate</th>\n",
              "      <th>votes</th>\n",
              "      <th>approx_cost(for two people)</th>\n",
              "    </tr>\n",
              "  </thead>\n",
              "  <tbody>\n",
              "    <tr>\n",
              "      <th>count</th>\n",
              "      <td>51148.000000</td>\n",
              "      <td>51148.000000</td>\n",
              "      <td>51148.000000</td>\n",
              "    </tr>\n",
              "    <tr>\n",
              "      <th>mean</th>\n",
              "      <td>3.701709</td>\n",
              "      <td>284.917885</td>\n",
              "      <td>556.043736</td>\n",
              "    </tr>\n",
              "    <tr>\n",
              "      <th>std</th>\n",
              "      <td>0.395188</td>\n",
              "      <td>806.495210</td>\n",
              "      <td>439.555299</td>\n",
              "    </tr>\n",
              "    <tr>\n",
              "      <th>min</th>\n",
              "      <td>1.800000</td>\n",
              "      <td>0.000000</td>\n",
              "      <td>40.000000</td>\n",
              "    </tr>\n",
              "    <tr>\n",
              "      <th>25%</th>\n",
              "      <td>3.500000</td>\n",
              "      <td>7.000000</td>\n",
              "      <td>300.000000</td>\n",
              "    </tr>\n",
              "    <tr>\n",
              "      <th>50%</th>\n",
              "      <td>3.700449</td>\n",
              "      <td>41.000000</td>\n",
              "      <td>400.000000</td>\n",
              "    </tr>\n",
              "    <tr>\n",
              "      <th>75%</th>\n",
              "      <td>3.900000</td>\n",
              "      <td>199.000000</td>\n",
              "      <td>700.000000</td>\n",
              "    </tr>\n",
              "    <tr>\n",
              "      <th>max</th>\n",
              "      <td>4.900000</td>\n",
              "      <td>16832.000000</td>\n",
              "      <td>6000.000000</td>\n",
              "    </tr>\n",
              "  </tbody>\n",
              "</table>\n",
              "</div>\n",
              "      <button class=\"colab-df-convert\" onclick=\"convertToInteractive('df-7e0f89f1-badc-4826-8437-851f23e5d865')\"\n",
              "              title=\"Convert this dataframe to an interactive table.\"\n",
              "              style=\"display:none;\">\n",
              "        \n",
              "  <svg xmlns=\"http://www.w3.org/2000/svg\" height=\"24px\"viewBox=\"0 0 24 24\"\n",
              "       width=\"24px\">\n",
              "    <path d=\"M0 0h24v24H0V0z\" fill=\"none\"/>\n",
              "    <path d=\"M18.56 5.44l.94 2.06.94-2.06 2.06-.94-2.06-.94-.94-2.06-.94 2.06-2.06.94zm-11 1L8.5 8.5l.94-2.06 2.06-.94-2.06-.94L8.5 2.5l-.94 2.06-2.06.94zm10 10l.94 2.06.94-2.06 2.06-.94-2.06-.94-.94-2.06-.94 2.06-2.06.94z\"/><path d=\"M17.41 7.96l-1.37-1.37c-.4-.4-.92-.59-1.43-.59-.52 0-1.04.2-1.43.59L10.3 9.45l-7.72 7.72c-.78.78-.78 2.05 0 2.83L4 21.41c.39.39.9.59 1.41.59.51 0 1.02-.2 1.41-.59l7.78-7.78 2.81-2.81c.8-.78.8-2.07 0-2.86zM5.41 20L4 18.59l7.72-7.72 1.47 1.35L5.41 20z\"/>\n",
              "  </svg>\n",
              "      </button>\n",
              "      \n",
              "  <style>\n",
              "    .colab-df-container {\n",
              "      display:flex;\n",
              "      flex-wrap:wrap;\n",
              "      gap: 12px;\n",
              "    }\n",
              "\n",
              "    .colab-df-convert {\n",
              "      background-color: #E8F0FE;\n",
              "      border: none;\n",
              "      border-radius: 50%;\n",
              "      cursor: pointer;\n",
              "      display: none;\n",
              "      fill: #1967D2;\n",
              "      height: 32px;\n",
              "      padding: 0 0 0 0;\n",
              "      width: 32px;\n",
              "    }\n",
              "\n",
              "    .colab-df-convert:hover {\n",
              "      background-color: #E2EBFA;\n",
              "      box-shadow: 0px 1px 2px rgba(60, 64, 67, 0.3), 0px 1px 3px 1px rgba(60, 64, 67, 0.15);\n",
              "      fill: #174EA6;\n",
              "    }\n",
              "\n",
              "    [theme=dark] .colab-df-convert {\n",
              "      background-color: #3B4455;\n",
              "      fill: #D2E3FC;\n",
              "    }\n",
              "\n",
              "    [theme=dark] .colab-df-convert:hover {\n",
              "      background-color: #434B5C;\n",
              "      box-shadow: 0px 1px 3px 1px rgba(0, 0, 0, 0.15);\n",
              "      filter: drop-shadow(0px 1px 2px rgba(0, 0, 0, 0.3));\n",
              "      fill: #FFFFFF;\n",
              "    }\n",
              "  </style>\n",
              "\n",
              "      <script>\n",
              "        const buttonEl =\n",
              "          document.querySelector('#df-7e0f89f1-badc-4826-8437-851f23e5d865 button.colab-df-convert');\n",
              "        buttonEl.style.display =\n",
              "          google.colab.kernel.accessAllowed ? 'block' : 'none';\n",
              "\n",
              "        async function convertToInteractive(key) {\n",
              "          const element = document.querySelector('#df-7e0f89f1-badc-4826-8437-851f23e5d865');\n",
              "          const dataTable =\n",
              "            await google.colab.kernel.invokeFunction('convertToInteractive',\n",
              "                                                     [key], {});\n",
              "          if (!dataTable) return;\n",
              "\n",
              "          const docLinkHtml = 'Like what you see? Visit the ' +\n",
              "            '<a target=\"_blank\" href=https://colab.research.google.com/notebooks/data_table.ipynb>data table notebook</a>'\n",
              "            + ' to learn more about interactive tables.';\n",
              "          element.innerHTML = '';\n",
              "          dataTable['output_type'] = 'display_data';\n",
              "          await google.colab.output.renderOutput(dataTable, element);\n",
              "          const docLink = document.createElement('div');\n",
              "          docLink.innerHTML = docLinkHtml;\n",
              "          element.appendChild(docLink);\n",
              "        }\n",
              "      </script>\n",
              "    </div>\n",
              "  </div>\n",
              "  "
            ]
          },
          "metadata": {},
          "execution_count": 99
        }
      ]
    },
    {
      "cell_type": "code",
      "source": [
        "duplicate=df1[df1.duplicated()] \n",
        "duplicate"
      ],
      "metadata": {
        "colab": {
          "base_uri": "https://localhost:8080/",
          "height": 1000
        },
        "id": "Y3u-PN7g9EPb",
        "outputId": "070c3c6f-3a3b-4d94-b2b0-4aa9f335fc7a"
      },
      "execution_count": null,
      "outputs": [
        {
          "output_type": "execute_result",
          "data": {
            "text/plain": [
              "                            name online_order book_table      rate  votes  \\\n",
              "596                 My Tea House          Yes        Yes  3.700449      0   \n",
              "2235                  Shiv Sagar           No         No  3.600000     10   \n",
              "4339               Biryani Treat           No         No  3.700449      0   \n",
              "7599            Nawab Di Biryani          Yes         No  3.700449      0   \n",
              "9342         Healthy Parathawala          Yes         No  3.700449      0   \n",
              "...                          ...          ...        ...       ...    ...   \n",
              "46553             House Of Candy          Yes         No  3.700449      0   \n",
              "49193  Sri Ganesh Juice Junction          Yes         No  3.500000      6   \n",
              "49432              Biryani Treat           No         No  3.700449      0   \n",
              "50405             House Of Candy          Yes         No  3.700449      0   \n",
              "50904           Nawab Di Biryani          Yes         No  3.700449      0   \n",
              "\n",
              "                location           rest_type      cuisines  \\\n",
              "596         Banashankari       Casual Dining        others   \n",
              "2235   Bannerghatta Road              others        others   \n",
              "4339           Bellandur         Quick Bites       Biryani   \n",
              "7599          Whitefield  Takeaway, Delivery        others   \n",
              "9342                 BTM         Quick Bites  North Indian   \n",
              "...                  ...                 ...           ...   \n",
              "46553       Malleshwaram              others      Desserts   \n",
              "49193          Bellandur              others        others   \n",
              "49432          Bellandur         Quick Bites       Biryani   \n",
              "50405         Whitefield              others      Desserts   \n",
              "50904         Whitefield  Takeaway, Delivery        others   \n",
              "\n",
              "       approx_cost(for two people)  \\\n",
              "596                          500.0   \n",
              "2235                         400.0   \n",
              "4339                         400.0   \n",
              "7599                         400.0   \n",
              "9342                         200.0   \n",
              "...                            ...   \n",
              "46553                        200.0   \n",
              "49193                        200.0   \n",
              "49432                        400.0   \n",
              "50405                        200.0   \n",
              "50904                        400.0   \n",
              "\n",
              "                                            reviews_list  \\\n",
              "596    [('Rated 4.0', \"RATED\\n  So apparently I visit...   \n",
              "2235   [('Rated 4.0', 'RATED\\n  It was yesterday I vi...   \n",
              "4339                                                  []   \n",
              "7599   [('Rated 4.0', 'RATED\\n  Ordered paneer tikka ...   \n",
              "9342                                                  []   \n",
              "...                                                  ...   \n",
              "46553                                                 []   \n",
              "49193  [('Rated 4.0', 'RATED\\n  A perfect place to dr...   \n",
              "49432                                                 []   \n",
              "50405                                                 []   \n",
              "50904  [('Rated 3.0', 'RATED\\n  Biriyani had ordered ...   \n",
              "\n",
              "                                               menu_item listed_in(type)  \\\n",
              "596    ['MTH Signature Soup', 'Minestrone Veg', 'Broc...        Dine-out   \n",
              "2235                                                  []        Dine-out   \n",
              "4339                                                  []        Delivery   \n",
              "7599   ['Paneer Tikka Biryani', 'Veg Lucknowi Biryani...        Delivery   \n",
              "9342   ['Aloo Paratha Chole Combo', 'Gobi Paratha Cho...        Delivery   \n",
              "...                                                  ...             ...   \n",
              "46553                                                 []        Delivery   \n",
              "49193                                                 []        Delivery   \n",
              "49432                                                 []        Delivery   \n",
              "50405                                                 []        Delivery   \n",
              "50904                                                 []        Delivery   \n",
              "\n",
              "         listed_in(city)  \n",
              "596         Banashankari  \n",
              "2235   Bannerghatta Road  \n",
              "4339           Bellandur  \n",
              "7599         Brookefield  \n",
              "9342                 BTM  \n",
              "...                  ...  \n",
              "46553        Rajajinagar  \n",
              "49193      Sarjapur Road  \n",
              "49432      Sarjapur Road  \n",
              "50405         Whitefield  \n",
              "50904         Whitefield  \n",
              "\n",
              "[64 rows x 13 columns]"
            ],
            "text/html": [
              "\n",
              "  <div id=\"df-6963a012-cd48-4c1e-a9e5-b112ff3741da\">\n",
              "    <div class=\"colab-df-container\">\n",
              "      <div>\n",
              "<style scoped>\n",
              "    .dataframe tbody tr th:only-of-type {\n",
              "        vertical-align: middle;\n",
              "    }\n",
              "\n",
              "    .dataframe tbody tr th {\n",
              "        vertical-align: top;\n",
              "    }\n",
              "\n",
              "    .dataframe thead th {\n",
              "        text-align: right;\n",
              "    }\n",
              "</style>\n",
              "<table border=\"1\" class=\"dataframe\">\n",
              "  <thead>\n",
              "    <tr style=\"text-align: right;\">\n",
              "      <th></th>\n",
              "      <th>name</th>\n",
              "      <th>online_order</th>\n",
              "      <th>book_table</th>\n",
              "      <th>rate</th>\n",
              "      <th>votes</th>\n",
              "      <th>location</th>\n",
              "      <th>rest_type</th>\n",
              "      <th>cuisines</th>\n",
              "      <th>approx_cost(for two people)</th>\n",
              "      <th>reviews_list</th>\n",
              "      <th>menu_item</th>\n",
              "      <th>listed_in(type)</th>\n",
              "      <th>listed_in(city)</th>\n",
              "    </tr>\n",
              "  </thead>\n",
              "  <tbody>\n",
              "    <tr>\n",
              "      <th>596</th>\n",
              "      <td>My Tea House</td>\n",
              "      <td>Yes</td>\n",
              "      <td>Yes</td>\n",
              "      <td>3.700449</td>\n",
              "      <td>0</td>\n",
              "      <td>Banashankari</td>\n",
              "      <td>Casual Dining</td>\n",
              "      <td>others</td>\n",
              "      <td>500.0</td>\n",
              "      <td>[('Rated 4.0', \"RATED\\n  So apparently I visit...</td>\n",
              "      <td>['MTH Signature Soup', 'Minestrone Veg', 'Broc...</td>\n",
              "      <td>Dine-out</td>\n",
              "      <td>Banashankari</td>\n",
              "    </tr>\n",
              "    <tr>\n",
              "      <th>2235</th>\n",
              "      <td>Shiv Sagar</td>\n",
              "      <td>No</td>\n",
              "      <td>No</td>\n",
              "      <td>3.600000</td>\n",
              "      <td>10</td>\n",
              "      <td>Bannerghatta Road</td>\n",
              "      <td>others</td>\n",
              "      <td>others</td>\n",
              "      <td>400.0</td>\n",
              "      <td>[('Rated 4.0', 'RATED\\n  It was yesterday I vi...</td>\n",
              "      <td>[]</td>\n",
              "      <td>Dine-out</td>\n",
              "      <td>Bannerghatta Road</td>\n",
              "    </tr>\n",
              "    <tr>\n",
              "      <th>4339</th>\n",
              "      <td>Biryani Treat</td>\n",
              "      <td>No</td>\n",
              "      <td>No</td>\n",
              "      <td>3.700449</td>\n",
              "      <td>0</td>\n",
              "      <td>Bellandur</td>\n",
              "      <td>Quick Bites</td>\n",
              "      <td>Biryani</td>\n",
              "      <td>400.0</td>\n",
              "      <td>[]</td>\n",
              "      <td>[]</td>\n",
              "      <td>Delivery</td>\n",
              "      <td>Bellandur</td>\n",
              "    </tr>\n",
              "    <tr>\n",
              "      <th>7599</th>\n",
              "      <td>Nawab Di Biryani</td>\n",
              "      <td>Yes</td>\n",
              "      <td>No</td>\n",
              "      <td>3.700449</td>\n",
              "      <td>0</td>\n",
              "      <td>Whitefield</td>\n",
              "      <td>Takeaway, Delivery</td>\n",
              "      <td>others</td>\n",
              "      <td>400.0</td>\n",
              "      <td>[('Rated 4.0', 'RATED\\n  Ordered paneer tikka ...</td>\n",
              "      <td>['Paneer Tikka Biryani', 'Veg Lucknowi Biryani...</td>\n",
              "      <td>Delivery</td>\n",
              "      <td>Brookefield</td>\n",
              "    </tr>\n",
              "    <tr>\n",
              "      <th>9342</th>\n",
              "      <td>Healthy Parathawala</td>\n",
              "      <td>Yes</td>\n",
              "      <td>No</td>\n",
              "      <td>3.700449</td>\n",
              "      <td>0</td>\n",
              "      <td>BTM</td>\n",
              "      <td>Quick Bites</td>\n",
              "      <td>North Indian</td>\n",
              "      <td>200.0</td>\n",
              "      <td>[]</td>\n",
              "      <td>['Aloo Paratha Chole Combo', 'Gobi Paratha Cho...</td>\n",
              "      <td>Delivery</td>\n",
              "      <td>BTM</td>\n",
              "    </tr>\n",
              "    <tr>\n",
              "      <th>...</th>\n",
              "      <td>...</td>\n",
              "      <td>...</td>\n",
              "      <td>...</td>\n",
              "      <td>...</td>\n",
              "      <td>...</td>\n",
              "      <td>...</td>\n",
              "      <td>...</td>\n",
              "      <td>...</td>\n",
              "      <td>...</td>\n",
              "      <td>...</td>\n",
              "      <td>...</td>\n",
              "      <td>...</td>\n",
              "      <td>...</td>\n",
              "    </tr>\n",
              "    <tr>\n",
              "      <th>46553</th>\n",
              "      <td>House Of Candy</td>\n",
              "      <td>Yes</td>\n",
              "      <td>No</td>\n",
              "      <td>3.700449</td>\n",
              "      <td>0</td>\n",
              "      <td>Malleshwaram</td>\n",
              "      <td>others</td>\n",
              "      <td>Desserts</td>\n",
              "      <td>200.0</td>\n",
              "      <td>[]</td>\n",
              "      <td>[]</td>\n",
              "      <td>Delivery</td>\n",
              "      <td>Rajajinagar</td>\n",
              "    </tr>\n",
              "    <tr>\n",
              "      <th>49193</th>\n",
              "      <td>Sri Ganesh Juice Junction</td>\n",
              "      <td>Yes</td>\n",
              "      <td>No</td>\n",
              "      <td>3.500000</td>\n",
              "      <td>6</td>\n",
              "      <td>Bellandur</td>\n",
              "      <td>others</td>\n",
              "      <td>others</td>\n",
              "      <td>200.0</td>\n",
              "      <td>[('Rated 4.0', 'RATED\\n  A perfect place to dr...</td>\n",
              "      <td>[]</td>\n",
              "      <td>Delivery</td>\n",
              "      <td>Sarjapur Road</td>\n",
              "    </tr>\n",
              "    <tr>\n",
              "      <th>49432</th>\n",
              "      <td>Biryani Treat</td>\n",
              "      <td>No</td>\n",
              "      <td>No</td>\n",
              "      <td>3.700449</td>\n",
              "      <td>0</td>\n",
              "      <td>Bellandur</td>\n",
              "      <td>Quick Bites</td>\n",
              "      <td>Biryani</td>\n",
              "      <td>400.0</td>\n",
              "      <td>[]</td>\n",
              "      <td>[]</td>\n",
              "      <td>Delivery</td>\n",
              "      <td>Sarjapur Road</td>\n",
              "    </tr>\n",
              "    <tr>\n",
              "      <th>50405</th>\n",
              "      <td>House Of Candy</td>\n",
              "      <td>Yes</td>\n",
              "      <td>No</td>\n",
              "      <td>3.700449</td>\n",
              "      <td>0</td>\n",
              "      <td>Whitefield</td>\n",
              "      <td>others</td>\n",
              "      <td>Desserts</td>\n",
              "      <td>200.0</td>\n",
              "      <td>[]</td>\n",
              "      <td>[]</td>\n",
              "      <td>Delivery</td>\n",
              "      <td>Whitefield</td>\n",
              "    </tr>\n",
              "    <tr>\n",
              "      <th>50904</th>\n",
              "      <td>Nawab Di Biryani</td>\n",
              "      <td>Yes</td>\n",
              "      <td>No</td>\n",
              "      <td>3.700449</td>\n",
              "      <td>0</td>\n",
              "      <td>Whitefield</td>\n",
              "      <td>Takeaway, Delivery</td>\n",
              "      <td>others</td>\n",
              "      <td>400.0</td>\n",
              "      <td>[('Rated 3.0', 'RATED\\n  Biriyani had ordered ...</td>\n",
              "      <td>[]</td>\n",
              "      <td>Delivery</td>\n",
              "      <td>Whitefield</td>\n",
              "    </tr>\n",
              "  </tbody>\n",
              "</table>\n",
              "<p>64 rows × 13 columns</p>\n",
              "</div>\n",
              "      <button class=\"colab-df-convert\" onclick=\"convertToInteractive('df-6963a012-cd48-4c1e-a9e5-b112ff3741da')\"\n",
              "              title=\"Convert this dataframe to an interactive table.\"\n",
              "              style=\"display:none;\">\n",
              "        \n",
              "  <svg xmlns=\"http://www.w3.org/2000/svg\" height=\"24px\"viewBox=\"0 0 24 24\"\n",
              "       width=\"24px\">\n",
              "    <path d=\"M0 0h24v24H0V0z\" fill=\"none\"/>\n",
              "    <path d=\"M18.56 5.44l.94 2.06.94-2.06 2.06-.94-2.06-.94-.94-2.06-.94 2.06-2.06.94zm-11 1L8.5 8.5l.94-2.06 2.06-.94-2.06-.94L8.5 2.5l-.94 2.06-2.06.94zm10 10l.94 2.06.94-2.06 2.06-.94-2.06-.94-.94-2.06-.94 2.06-2.06.94z\"/><path d=\"M17.41 7.96l-1.37-1.37c-.4-.4-.92-.59-1.43-.59-.52 0-1.04.2-1.43.59L10.3 9.45l-7.72 7.72c-.78.78-.78 2.05 0 2.83L4 21.41c.39.39.9.59 1.41.59.51 0 1.02-.2 1.41-.59l7.78-7.78 2.81-2.81c.8-.78.8-2.07 0-2.86zM5.41 20L4 18.59l7.72-7.72 1.47 1.35L5.41 20z\"/>\n",
              "  </svg>\n",
              "      </button>\n",
              "      \n",
              "  <style>\n",
              "    .colab-df-container {\n",
              "      display:flex;\n",
              "      flex-wrap:wrap;\n",
              "      gap: 12px;\n",
              "    }\n",
              "\n",
              "    .colab-df-convert {\n",
              "      background-color: #E8F0FE;\n",
              "      border: none;\n",
              "      border-radius: 50%;\n",
              "      cursor: pointer;\n",
              "      display: none;\n",
              "      fill: #1967D2;\n",
              "      height: 32px;\n",
              "      padding: 0 0 0 0;\n",
              "      width: 32px;\n",
              "    }\n",
              "\n",
              "    .colab-df-convert:hover {\n",
              "      background-color: #E2EBFA;\n",
              "      box-shadow: 0px 1px 2px rgba(60, 64, 67, 0.3), 0px 1px 3px 1px rgba(60, 64, 67, 0.15);\n",
              "      fill: #174EA6;\n",
              "    }\n",
              "\n",
              "    [theme=dark] .colab-df-convert {\n",
              "      background-color: #3B4455;\n",
              "      fill: #D2E3FC;\n",
              "    }\n",
              "\n",
              "    [theme=dark] .colab-df-convert:hover {\n",
              "      background-color: #434B5C;\n",
              "      box-shadow: 0px 1px 3px 1px rgba(0, 0, 0, 0.15);\n",
              "      filter: drop-shadow(0px 1px 2px rgba(0, 0, 0, 0.3));\n",
              "      fill: #FFFFFF;\n",
              "    }\n",
              "  </style>\n",
              "\n",
              "      <script>\n",
              "        const buttonEl =\n",
              "          document.querySelector('#df-6963a012-cd48-4c1e-a9e5-b112ff3741da button.colab-df-convert');\n",
              "        buttonEl.style.display =\n",
              "          google.colab.kernel.accessAllowed ? 'block' : 'none';\n",
              "\n",
              "        async function convertToInteractive(key) {\n",
              "          const element = document.querySelector('#df-6963a012-cd48-4c1e-a9e5-b112ff3741da');\n",
              "          const dataTable =\n",
              "            await google.colab.kernel.invokeFunction('convertToInteractive',\n",
              "                                                     [key], {});\n",
              "          if (!dataTable) return;\n",
              "\n",
              "          const docLinkHtml = 'Like what you see? Visit the ' +\n",
              "            '<a target=\"_blank\" href=https://colab.research.google.com/notebooks/data_table.ipynb>data table notebook</a>'\n",
              "            + ' to learn more about interactive tables.';\n",
              "          element.innerHTML = '';\n",
              "          dataTable['output_type'] = 'display_data';\n",
              "          await google.colab.output.renderOutput(dataTable, element);\n",
              "          const docLink = document.createElement('div');\n",
              "          docLink.innerHTML = docLinkHtml;\n",
              "          element.appendChild(docLink);\n",
              "        }\n",
              "      </script>\n",
              "    </div>\n",
              "  </div>\n",
              "  "
            ]
          },
          "metadata": {},
          "execution_count": 100
        }
      ]
    },
    {
      "cell_type": "markdown",
      "source": [
        "***Now we will Drop duplicate data***"
      ],
      "metadata": {
        "id": "Bi-eA-oN83AQ"
      }
    },
    {
      "cell_type": "code",
      "source": [
        "df1.drop_duplicates(inplace=True)\n"
      ],
      "metadata": {
        "id": "0trhn7HKPhJS"
      },
      "execution_count": null,
      "outputs": []
    },
    {
      "cell_type": "markdown",
      "source": [
        "***Now we see the final shape of our data***"
      ],
      "metadata": {
        "id": "ukVnqn5G9MYS"
      }
    },
    {
      "cell_type": "code",
      "source": [
        "df1.shape"
      ],
      "metadata": {
        "colab": {
          "base_uri": "https://localhost:8080/"
        },
        "id": "xdfOp6dXLERR",
        "outputId": "3d0f75e5-857b-4482-ff99-5913f3e49b18"
      },
      "execution_count": null,
      "outputs": [
        {
          "output_type": "execute_result",
          "data": {
            "text/plain": [
              "(51084, 13)"
            ]
          },
          "metadata": {},
          "execution_count": 102
        }
      ]
    },
    {
      "cell_type": "code",
      "source": [
        "from google.colab import files\n",
        "files.download('/content/zomatoo cleaning.csv')"
      ],
      "metadata": {
        "id": "oW3DRpXuPm0q"
      },
      "execution_count": null,
      "outputs": []
    },
    {
      "cell_type": "markdown",
      "source": [
        "***lets go  [TABLEAU_LINK](https://public.tableau.com/app/profile/kartik.parlikar/viz/BangaluruZomatoData/Story1#1)  for visualize***\n",
        "\n"
      ],
      "metadata": {
        "id": "CK3qk-Ft-gSc"
      }
    },
    {
      "cell_type": "code",
      "source": [],
      "metadata": {
        "id": "E0LL3ZlQ_D19"
      },
      "execution_count": null,
      "outputs": []
    },
    {
      "cell_type": "code",
      "source": [],
      "metadata": {
        "id": "D83t2eic_EB7"
      },
      "execution_count": null,
      "outputs": []
    },
    {
      "cell_type": "code",
      "source": [],
      "metadata": {
        "id": "ST3V6To1_EFC"
      },
      "execution_count": null,
      "outputs": []
    },
    {
      "cell_type": "code",
      "source": [],
      "metadata": {
        "id": "m6deZzBd_EHj"
      },
      "execution_count": null,
      "outputs": []
    },
    {
      "cell_type": "code",
      "source": [
        "#df1.drop(df1[df1['adr'] > 1000].index, inplace = True)"
      ],
      "metadata": {
        "id": "7eNp5DGubKoW"
      },
      "execution_count": null,
      "outputs": []
    },
    {
      "cell_type": "code",
      "source": [
        "#df1.to_csv('zomatoo cleaning.csv')"
      ],
      "metadata": {
        "id": "C85RioUYyudR"
      },
      "execution_count": null,
      "outputs": []
    },
    {
      "cell_type": "code",
      "source": [
        "#df1['location'].fillna(df1['location'].mode()[0],inplace=True)"
      ],
      "metadata": {
        "id": "7iFDQWROl77E"
      },
      "execution_count": null,
      "outputs": []
    },
    {
      "cell_type": "code",
      "source": [
        "#df1['cuisines'].fillna(df1['cuisines'].mode()[0],inplace=True)"
      ],
      "metadata": {
        "id": "L33Q43DMHg25"
      },
      "execution_count": null,
      "outputs": []
    },
    {
      "cell_type": "code",
      "source": [
        "#df1['rest_type'].fillna(df1['rest_type'].mode()[0],inplace=True)"
      ],
      "metadata": {
        "id": "cU5QCLV_Hg6m"
      },
      "execution_count": null,
      "outputs": []
    },
    {
      "cell_type": "code",
      "source": [
        "#df1['approx_cost(for two people)'].fillna(df1['approx_cost(for two people)'].mean(),inplace=True)\n"
      ],
      "metadata": {
        "id": "xlJ_EK09HhFg"
      },
      "execution_count": null,
      "outputs": []
    }
  ]
}